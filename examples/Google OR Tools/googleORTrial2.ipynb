{
 "cells": [
  {
   "cell_type": "markdown",
   "metadata": {},
   "source": [
    "### Modelling the problem\n",
    "\n",
    "We have a set of employees, $E$, and a set of days, $D$.\n",
    "\n",
    "Let $e \\in E$ and $d \\in D$.\n",
    "\n",
    "$\\forall e \\in E$ and $\\forall d \\in D$, if employee $e$ has day $d$ off, $L (e,d) = 1$\n",
    "\n",
    "Therefore $L$ is an $|E|$ by $|D|$ matrix.\n",
    "\n",
    "$$\n",
    "L_{e,d} = \n",
    "\\begin{pmatrix}\n",
    "a_{1,1} & a_{1,2} & \\cdots & a_{1,|D|} \\\\\n",
    "a_{2,1} & a_{2,2} & \\cdots & a_{2,|D|} \\\\\n",
    "\\vdots & \\vdots & \\ddots & \\vdots \\\\\n",
    "a_{|E|,1} & a_{|E|,2} & \\cdots & a_{|E|,|D|} \n",
    "\\end{pmatrix}\n",
    "$$\n",
    "\n",
    "Let $|E| = 10$ and $|D| = 5$, meaning that there are 10 employees and 5 staff members.\n",
    "\n",
    "We also have a set of employee quotas ( $Q$ ) for each day, which is a matrix of length $ |D| $. \n",
    "\n",
    "$Q (d)$ denotes the proportion of staff members who can take annual leave on day $ d $.\n",
    "\n",
    "Therefore, \n",
    "$$\\forall d \\in D,  \\sum_{e=0}^E L(e,d) \\leq (|E| * Q(d))$$\n",
    "\n",
    "Finally, there is a staff leave allowance ( $A$ ), which is a matrix of length $|E|$, where $A(e)$ denotes the holiday entitlement remaining for employee $e$.\n",
    "\n",
    "Therefore, \n",
    "$$\\forall e \\in E, \\sum_{d=0}^D L(e,d) \\leq A(e)  $$\n",
    "\n",
    "The preference of leave assignments for all employees in $E$ is given by an $E * D$ matrix $P$, where if $P(e,d) = 1$, the employee has requested this day off.\n",
    "\n",
    "If an employee does not request a day off, then we do not want the algorithm to assign a day off to them.\n",
    "\n",
    "Therefore,\n",
    "\n",
    "$$ L(e,d) \\leq P(e,d)  \\quad \\forall e \\in E , \\forall d \\in D $$\n",
    "\n"
   ]
  },
  {
   "cell_type": "code",
   "execution_count": 9,
   "metadata": {},
   "outputs": [],
   "source": [
    "from ortools.sat.python import cp_model\n",
    "import numpy as np\n",
    "import pandas as pd\n",
    "from math import ceil\n",
    "import random\n"
   ]
  },
  {
   "cell_type": "code",
   "execution_count": 26,
   "metadata": {},
   "outputs": [
    {
     "name": "stdout",
     "output_type": "stream",
     "text": [
      "Staff Limit: [0.25, 0.45, 0.4, 0.25, 0.25]\n",
      "Staff Leave Allowance (number of days): [3, 5, 4, 0, 1, 3, 2, 3, 5, 5]\n",
      "Preference Matrix: \n",
      " [[1 1 1 0 1]\n",
      " [1 1 1 1 1]\n",
      " [1 1 1 0 1]\n",
      " [1 1 0 1 1]\n",
      " [1 1 1 1 1]\n",
      " [1 0 1 1 1]\n",
      " [1 1 1 0 1]\n",
      " [1 1 1 1 1]\n",
      " [1 1 1 1 1]\n",
      " [1 1 1 1 1]]\n"
     ]
    }
   ],
   "source": [
    "num_staff = 10\n",
    "num_days = 5\n",
    "\n",
    "staff_limit = [((random.randrange(25, 50, 5) / 100)) for i in range(num_days)] # random capacity for each day\n",
    "print(f\"Staff Limit: {staff_limit}\")\n",
    "\n",
    "staff_leave_allowance = [random.randint(0, 5) for i in range(num_staff)] # random leave allowance for each staff\n",
    "print(f\"Staff Leave Allowance (number of days): {staff_leave_allowance}\")\n",
    "\n",
    "num_ones = int(num_staff * num_days * 0.9)\n",
    "num_zeros = (num_staff * num_days) - num_ones\n",
    "array = np.array([1] * num_ones + [0] * num_zeros)\n",
    "np.random.shuffle(array)\n",
    "p = array.reshape(num_staff,num_days)\n",
    "print(f\"Preference Matrix: \\n {p}\")\n",
    "\n",
    "\n"
   ]
  },
  {
   "cell_type": "code",
   "execution_count": 27,
   "metadata": {},
   "outputs": [],
   "source": [
    "model = cp_model.CpModel()"
   ]
  },
  {
   "cell_type": "markdown",
   "metadata": {},
   "source": [
    "If employee $e$ has day $d$ off, $L (e,d) = 1$"
   ]
  },
  {
   "cell_type": "code",
   "execution_count": 28,
   "metadata": {},
   "outputs": [],
   "source": [
    "l = {}\n",
    "for e in range(num_staff):\n",
    "    for d in range(num_days):\n",
    "        l[(e, d)] = model.new_bool_var(f\"L_{e}_y{d}\")"
   ]
  },
  {
   "cell_type": "markdown",
   "metadata": {},
   "source": [
    "Ensuring holiday entitlement is not exceeded (denoted by A for each employee).\n",
    "\n",
    "$\\forall e \\in E, \\sum_{d=0}^D L(e,d) \\leq A(e)  $"
   ]
  },
  {
   "cell_type": "code",
   "execution_count": 29,
   "metadata": {},
   "outputs": [],
   "source": [
    "for e in range(num_staff):\n",
    "    model.Add(sum(l[e, d] for d in range(num_days)) <= staff_leave_allowance[e])"
   ]
  },
  {
   "cell_type": "markdown",
   "metadata": {},
   "source": [
    "Ensuring that maximum daily leave quota is not exceeded (denoted by array Q)\n",
    "\n",
    "$\\forall d \\in D,  \\sum_{e=0}^E L(e,d) \\leq (|E| * Q(d))$"
   ]
  },
  {
   "cell_type": "code",
   "execution_count": 30,
   "metadata": {},
   "outputs": [],
   "source": [
    "\n",
    "# calculate number of staff * staff_limit for each day\n",
    "for d in range(num_days):\n",
    "    model.Add(sum(l[e, d] for e in range(num_staff)) <= ceil(num_staff * staff_limit[d]))\n"
   ]
  },
  {
   "cell_type": "markdown",
   "metadata": {},
   "source": [
    "Objective functions:\n",
    "\n",
    "1) Maximise the leave which matches a persons preference, and minimise leave that doesn't match a preference.\n",
    "\n",
    "    The line below aims to maximise $P( e , d ) \\times L( e , d )$ for each staff member \n",
    "    $ e \\in E $ and for each day $ d \\in d $ .\n",
    "\n",
    "    If a staff member hasn't asked for a day off ( meaning $ P(e,d) = 0 $ ), the algorithm shouldn't give them a day off, as $ P( e , d ) \\times L( e , d ) = 0 \\times 1 = 0 $\n",
    "\n",
    "    Likewise, if a staff member has asked for a day off ( meaning $ P(e,d) = 1 $ ), the algorithm should try to give them a day off, as $ P( e , d ) \\times L( e , d ) = 1 \\times 1 = 1 $\n",
    "\n",
    "\n"
   ]
  },
  {
   "cell_type": "code",
   "execution_count": 31,
   "metadata": {},
   "outputs": [],
   "source": [
    "model.Maximize(sum(p[e][d] * l[e, d] for e in range(num_staff) for d in range(num_days)))"
   ]
  },
  {
   "cell_type": "markdown",
   "metadata": {},
   "source": [
    "2) Maximise number of consecutive days and add an upper constraint to the number of consecutive days you can take (soft constraint)\n",
    "\n",
    "    In order to encourage the algorithm to want to approve \"blocks\" of annual leave rather than individual days, we aim to maximise the number of consecutive days allocated.\n",
    "\n",
    "    We can define a variable $S$, where $S(e,d) = L(e,d) * L(e,d+1)$ for $\\sum_{d=0}^{|D|-1}$.\n",
    "\n",
    "    For example, if a person has a preference of two consecutive days $\\{1,1\\}$, we aim to maximise the product $L(e,d)$ of these two consecutive days.\n",
    "\n",
    "    Scheduling $\\{1,0\\}$ or $\\{0,1\\}$ results in a product of $0$, meaning that this behavour will be discouraged."
   ]
  },
  {
   "cell_type": "code",
   "execution_count": 35,
   "metadata": {},
   "outputs": [
    {
     "ename": "TypeError",
     "evalue": "Not a number: L_0_y1 of type <class 'ortools.sat.python.cp_model.IntVar'>",
     "output_type": "error",
     "traceback": [
      "\u001b[1;31m---------------------------------------------------------------------------\u001b[0m",
      "\u001b[1;31mTypeError\u001b[0m                                 Traceback (most recent call last)",
      "Cell \u001b[1;32mIn[35], line 1\u001b[0m\n\u001b[1;32m----> 1\u001b[0m model\u001b[38;5;241m.\u001b[39mMaximize(\u001b[38;5;28;43msum\u001b[39;49m\u001b[43m(\u001b[49m\u001b[43ml\u001b[49m\u001b[43m[\u001b[49m\u001b[43me\u001b[49m\u001b[43m,\u001b[49m\u001b[43m \u001b[49m\u001b[43md\u001b[49m\u001b[43m]\u001b[49m\u001b[43m \u001b[49m\u001b[38;5;241;43m*\u001b[39;49m\u001b[43m \u001b[49m\u001b[43ml\u001b[49m\u001b[43m[\u001b[49m\u001b[43me\u001b[49m\u001b[43m,\u001b[49m\u001b[43md\u001b[49m\u001b[38;5;241;43m+\u001b[39;49m\u001b[38;5;241;43m1\u001b[39;49m\u001b[43m]\u001b[49m\u001b[43m \u001b[49m\u001b[38;5;28;43;01mfor\u001b[39;49;00m\u001b[43m \u001b[49m\u001b[43me\u001b[49m\u001b[43m \u001b[49m\u001b[38;5;129;43;01min\u001b[39;49;00m\u001b[43m \u001b[49m\u001b[38;5;28;43mrange\u001b[39;49m\u001b[43m(\u001b[49m\u001b[43mnum_staff\u001b[49m\u001b[43m)\u001b[49m\u001b[43m \u001b[49m\u001b[38;5;28;43;01mfor\u001b[39;49;00m\u001b[43m \u001b[49m\u001b[43md\u001b[49m\u001b[43m \u001b[49m\u001b[38;5;129;43;01min\u001b[39;49;00m\u001b[43m \u001b[49m\u001b[38;5;28;43mrange\u001b[39;49m\u001b[43m(\u001b[49m\u001b[43mnum_days\u001b[49m\u001b[38;5;241;43m-\u001b[39;49m\u001b[38;5;241;43m1\u001b[39;49m\u001b[43m)\u001b[49m\u001b[43m)\u001b[49m)\n",
      "Cell \u001b[1;32mIn[35], line 1\u001b[0m, in \u001b[0;36m<genexpr>\u001b[1;34m(.0)\u001b[0m\n\u001b[1;32m----> 1\u001b[0m model\u001b[38;5;241m.\u001b[39mMaximize(\u001b[38;5;28msum\u001b[39m(\u001b[43ml\u001b[49m\u001b[43m[\u001b[49m\u001b[43me\u001b[49m\u001b[43m,\u001b[49m\u001b[43m \u001b[49m\u001b[43md\u001b[49m\u001b[43m]\u001b[49m\u001b[43m \u001b[49m\u001b[38;5;241;43m*\u001b[39;49m\u001b[43m \u001b[49m\u001b[43ml\u001b[49m\u001b[43m[\u001b[49m\u001b[43me\u001b[49m\u001b[43m,\u001b[49m\u001b[43md\u001b[49m\u001b[38;5;241;43m+\u001b[39;49m\u001b[38;5;241;43m1\u001b[39;49m\u001b[43m]\u001b[49m \u001b[38;5;28;01mfor\u001b[39;00m e \u001b[38;5;129;01min\u001b[39;00m \u001b[38;5;28mrange\u001b[39m(num_staff) \u001b[38;5;28;01mfor\u001b[39;00m d \u001b[38;5;129;01min\u001b[39;00m \u001b[38;5;28mrange\u001b[39m(num_days\u001b[38;5;241m-\u001b[39m\u001b[38;5;241m1\u001b[39m)))\n",
      "File \u001b[1;32mc:\\Users\\seren\\OneDrive\\Desktop\\Dissertation\\venv\\lib\\site-packages\\ortools\\sat\\python\\cp_model.py:489\u001b[0m, in \u001b[0;36mLinearExpr.__mul__\u001b[1;34m(self, arg)\u001b[0m\n\u001b[0;32m    488\u001b[0m \u001b[38;5;28;01mdef\u001b[39;00m\u001b[38;5;250m \u001b[39m\u001b[38;5;21m__mul__\u001b[39m(\u001b[38;5;28mself\u001b[39m, arg):\n\u001b[1;32m--> 489\u001b[0m     arg \u001b[38;5;241m=\u001b[39m \u001b[43mcmh\u001b[49m\u001b[38;5;241;43m.\u001b[39;49m\u001b[43massert_is_a_number\u001b[49m\u001b[43m(\u001b[49m\u001b[43marg\u001b[49m\u001b[43m)\u001b[49m\n\u001b[0;32m    490\u001b[0m     \u001b[38;5;28;01mif\u001b[39;00m cmh\u001b[38;5;241m.\u001b[39mis_one(arg):\n\u001b[0;32m    491\u001b[0m         \u001b[38;5;28;01mreturn\u001b[39;00m \u001b[38;5;28mself\u001b[39m\n",
      "File \u001b[1;32mc:\\Users\\seren\\OneDrive\\Desktop\\Dissertation\\venv\\lib\\site-packages\\ortools\\sat\\python\\cp_model_helper.py:99\u001b[0m, in \u001b[0;36massert_is_a_number\u001b[1;34m(x)\u001b[0m\n\u001b[0;32m     97\u001b[0m \u001b[38;5;28;01mif\u001b[39;00m \u001b[38;5;28misinstance\u001b[39m(x, numbers\u001b[38;5;241m.\u001b[39mReal):\n\u001b[0;32m     98\u001b[0m     \u001b[38;5;28;01mreturn\u001b[39;00m \u001b[38;5;28mfloat\u001b[39m(x)\n\u001b[1;32m---> 99\u001b[0m \u001b[38;5;28;01mraise\u001b[39;00m \u001b[38;5;167;01mTypeError\u001b[39;00m(\u001b[38;5;124mf\u001b[39m\u001b[38;5;124m\"\u001b[39m\u001b[38;5;124mNot a number: \u001b[39m\u001b[38;5;132;01m{\u001b[39;00mx\u001b[38;5;132;01m}\u001b[39;00m\u001b[38;5;124m of type \u001b[39m\u001b[38;5;132;01m{\u001b[39;00m\u001b[38;5;28mtype\u001b[39m(x)\u001b[38;5;132;01m}\u001b[39;00m\u001b[38;5;124m\"\u001b[39m)\n",
      "\u001b[1;31mTypeError\u001b[0m: Not a number: L_0_y1 of type <class 'ortools.sat.python.cp_model.IntVar'>"
     ]
    }
   ],
   "source": [
    "model.Maximize(sum(l[e, d] * l[e,d+1] for e in range(num_staff) for d in range(num_days-1)))"
   ]
  },
  {
   "cell_type": "markdown",
   "metadata": {},
   "source": [
    "3) Prioritise those who have more leave allowance left"
   ]
  },
  {
   "cell_type": "markdown",
   "metadata": {},
   "source": [
    "4) Prioritise certain staff based on role"
   ]
  },
  {
   "cell_type": "markdown",
   "metadata": {},
   "source": [
    "5) Prioritise based on children"
   ]
  },
  {
   "cell_type": "code",
   "execution_count": 32,
   "metadata": {},
   "outputs": [],
   "source": [
    "# Solve model\n",
    "\n",
    "solver = cp_model.CpSolver()\n",
    "# solver.parameters.linearization_level = 0\n",
    "solver.parameters.enumerate_all_solutions = True\n",
    "status = solver.Solve(model)"
   ]
  },
  {
   "cell_type": "code",
   "execution_count": 33,
   "metadata": {},
   "outputs": [
    {
     "name": "stdout",
     "output_type": "stream",
     "text": [
      "Solution\n",
      "Red cells are cells where preference matrix and solution matrix differ.\n"
     ]
    },
    {
     "name": "stderr",
     "output_type": "stream",
     "text": [
      "C:\\Users\\seren\\AppData\\Local\\Temp\\ipykernel_32124\\921478126.py:21: FutureWarning: Styler.applymap has been deprecated. Use Styler.map instead.\n",
      "  df_styled = df.style.apply(highlight_diff, axis=None, other=df2).applymap(highlight_cells)\n"
     ]
    },
    {
     "data": {
      "text/html": [
       "<style type=\"text/css\">\n",
       "#T_83ccd_row0_col0, #T_83ccd_row0_col2, #T_83ccd_row0_col4, #T_83ccd_row1_col0, #T_83ccd_row1_col1, #T_83ccd_row1_col2, #T_83ccd_row1_col3, #T_83ccd_row1_col4, #T_83ccd_row2_col0, #T_83ccd_row2_col1, #T_83ccd_row4_col2, #T_83ccd_row5_col3, #T_83ccd_row5_col4, #T_83ccd_row7_col1, #T_83ccd_row8_col1, #T_83ccd_row8_col3, #T_83ccd_row9_col1, #T_83ccd_row9_col2 {\n",
       "  color: #00ff15;\n",
       "}\n",
       "#T_83ccd_row0_col1, #T_83ccd_row2_col2, #T_83ccd_row2_col4, #T_83ccd_row3_col0, #T_83ccd_row3_col1, #T_83ccd_row3_col3, #T_83ccd_row3_col4, #T_83ccd_row4_col0, #T_83ccd_row4_col1, #T_83ccd_row4_col3, #T_83ccd_row4_col4, #T_83ccd_row5_col0, #T_83ccd_row5_col2, #T_83ccd_row6_col0, #T_83ccd_row6_col1, #T_83ccd_row6_col2, #T_83ccd_row6_col4, #T_83ccd_row7_col0, #T_83ccd_row7_col2, #T_83ccd_row7_col3, #T_83ccd_row7_col4, #T_83ccd_row8_col0, #T_83ccd_row8_col2, #T_83ccd_row8_col4, #T_83ccd_row9_col0, #T_83ccd_row9_col3, #T_83ccd_row9_col4 {\n",
       "  background-color: #ff616b;\n",
       "  color: ;\n",
       "}\n",
       "#T_83ccd_row0_col3, #T_83ccd_row2_col3, #T_83ccd_row3_col2, #T_83ccd_row5_col1, #T_83ccd_row6_col3 {\n",
       "  color: ;\n",
       "}\n",
       "</style>\n",
       "<table id=\"T_83ccd\">\n",
       "  <thead>\n",
       "    <tr>\n",
       "      <th class=\"blank level0\" >&nbsp;</th>\n",
       "      <th id=\"T_83ccd_level0_col0\" class=\"col_heading level0 col0\" >Day 1</th>\n",
       "      <th id=\"T_83ccd_level0_col1\" class=\"col_heading level0 col1\" >Day 2</th>\n",
       "      <th id=\"T_83ccd_level0_col2\" class=\"col_heading level0 col2\" >Day 3</th>\n",
       "      <th id=\"T_83ccd_level0_col3\" class=\"col_heading level0 col3\" >Day 4</th>\n",
       "      <th id=\"T_83ccd_level0_col4\" class=\"col_heading level0 col4\" >Day 5</th>\n",
       "    </tr>\n",
       "  </thead>\n",
       "  <tbody>\n",
       "    <tr>\n",
       "      <th id=\"T_83ccd_level0_row0\" class=\"row_heading level0 row0\" >Employee 1</th>\n",
       "      <td id=\"T_83ccd_row0_col0\" class=\"data row0 col0\" >1</td>\n",
       "      <td id=\"T_83ccd_row0_col1\" class=\"data row0 col1\" >0</td>\n",
       "      <td id=\"T_83ccd_row0_col2\" class=\"data row0 col2\" >1</td>\n",
       "      <td id=\"T_83ccd_row0_col3\" class=\"data row0 col3\" >0</td>\n",
       "      <td id=\"T_83ccd_row0_col4\" class=\"data row0 col4\" >1</td>\n",
       "    </tr>\n",
       "    <tr>\n",
       "      <th id=\"T_83ccd_level0_row1\" class=\"row_heading level0 row1\" >Employee 2</th>\n",
       "      <td id=\"T_83ccd_row1_col0\" class=\"data row1 col0\" >1</td>\n",
       "      <td id=\"T_83ccd_row1_col1\" class=\"data row1 col1\" >1</td>\n",
       "      <td id=\"T_83ccd_row1_col2\" class=\"data row1 col2\" >1</td>\n",
       "      <td id=\"T_83ccd_row1_col3\" class=\"data row1 col3\" >1</td>\n",
       "      <td id=\"T_83ccd_row1_col4\" class=\"data row1 col4\" >1</td>\n",
       "    </tr>\n",
       "    <tr>\n",
       "      <th id=\"T_83ccd_level0_row2\" class=\"row_heading level0 row2\" >Employee 3</th>\n",
       "      <td id=\"T_83ccd_row2_col0\" class=\"data row2 col0\" >1</td>\n",
       "      <td id=\"T_83ccd_row2_col1\" class=\"data row2 col1\" >1</td>\n",
       "      <td id=\"T_83ccd_row2_col2\" class=\"data row2 col2\" >0</td>\n",
       "      <td id=\"T_83ccd_row2_col3\" class=\"data row2 col3\" >0</td>\n",
       "      <td id=\"T_83ccd_row2_col4\" class=\"data row2 col4\" >0</td>\n",
       "    </tr>\n",
       "    <tr>\n",
       "      <th id=\"T_83ccd_level0_row3\" class=\"row_heading level0 row3\" >Employee 4</th>\n",
       "      <td id=\"T_83ccd_row3_col0\" class=\"data row3 col0\" >0</td>\n",
       "      <td id=\"T_83ccd_row3_col1\" class=\"data row3 col1\" >0</td>\n",
       "      <td id=\"T_83ccd_row3_col2\" class=\"data row3 col2\" >0</td>\n",
       "      <td id=\"T_83ccd_row3_col3\" class=\"data row3 col3\" >0</td>\n",
       "      <td id=\"T_83ccd_row3_col4\" class=\"data row3 col4\" >0</td>\n",
       "    </tr>\n",
       "    <tr>\n",
       "      <th id=\"T_83ccd_level0_row4\" class=\"row_heading level0 row4\" >Employee 5</th>\n",
       "      <td id=\"T_83ccd_row4_col0\" class=\"data row4 col0\" >0</td>\n",
       "      <td id=\"T_83ccd_row4_col1\" class=\"data row4 col1\" >0</td>\n",
       "      <td id=\"T_83ccd_row4_col2\" class=\"data row4 col2\" >1</td>\n",
       "      <td id=\"T_83ccd_row4_col3\" class=\"data row4 col3\" >0</td>\n",
       "      <td id=\"T_83ccd_row4_col4\" class=\"data row4 col4\" >0</td>\n",
       "    </tr>\n",
       "    <tr>\n",
       "      <th id=\"T_83ccd_level0_row5\" class=\"row_heading level0 row5\" >Employee 6</th>\n",
       "      <td id=\"T_83ccd_row5_col0\" class=\"data row5 col0\" >0</td>\n",
       "      <td id=\"T_83ccd_row5_col1\" class=\"data row5 col1\" >0</td>\n",
       "      <td id=\"T_83ccd_row5_col2\" class=\"data row5 col2\" >0</td>\n",
       "      <td id=\"T_83ccd_row5_col3\" class=\"data row5 col3\" >1</td>\n",
       "      <td id=\"T_83ccd_row5_col4\" class=\"data row5 col4\" >1</td>\n",
       "    </tr>\n",
       "    <tr>\n",
       "      <th id=\"T_83ccd_level0_row6\" class=\"row_heading level0 row6\" >Employee 7</th>\n",
       "      <td id=\"T_83ccd_row6_col0\" class=\"data row6 col0\" >0</td>\n",
       "      <td id=\"T_83ccd_row6_col1\" class=\"data row6 col1\" >0</td>\n",
       "      <td id=\"T_83ccd_row6_col2\" class=\"data row6 col2\" >0</td>\n",
       "      <td id=\"T_83ccd_row6_col3\" class=\"data row6 col3\" >0</td>\n",
       "      <td id=\"T_83ccd_row6_col4\" class=\"data row6 col4\" >0</td>\n",
       "    </tr>\n",
       "    <tr>\n",
       "      <th id=\"T_83ccd_level0_row7\" class=\"row_heading level0 row7\" >Employee 8</th>\n",
       "      <td id=\"T_83ccd_row7_col0\" class=\"data row7 col0\" >0</td>\n",
       "      <td id=\"T_83ccd_row7_col1\" class=\"data row7 col1\" >1</td>\n",
       "      <td id=\"T_83ccd_row7_col2\" class=\"data row7 col2\" >0</td>\n",
       "      <td id=\"T_83ccd_row7_col3\" class=\"data row7 col3\" >0</td>\n",
       "      <td id=\"T_83ccd_row7_col4\" class=\"data row7 col4\" >0</td>\n",
       "    </tr>\n",
       "    <tr>\n",
       "      <th id=\"T_83ccd_level0_row8\" class=\"row_heading level0 row8\" >Employee 9</th>\n",
       "      <td id=\"T_83ccd_row8_col0\" class=\"data row8 col0\" >0</td>\n",
       "      <td id=\"T_83ccd_row8_col1\" class=\"data row8 col1\" >1</td>\n",
       "      <td id=\"T_83ccd_row8_col2\" class=\"data row8 col2\" >0</td>\n",
       "      <td id=\"T_83ccd_row8_col3\" class=\"data row8 col3\" >1</td>\n",
       "      <td id=\"T_83ccd_row8_col4\" class=\"data row8 col4\" >0</td>\n",
       "    </tr>\n",
       "    <tr>\n",
       "      <th id=\"T_83ccd_level0_row9\" class=\"row_heading level0 row9\" >Employee 10</th>\n",
       "      <td id=\"T_83ccd_row9_col0\" class=\"data row9 col0\" >0</td>\n",
       "      <td id=\"T_83ccd_row9_col1\" class=\"data row9 col1\" >1</td>\n",
       "      <td id=\"T_83ccd_row9_col2\" class=\"data row9 col2\" >1</td>\n",
       "      <td id=\"T_83ccd_row9_col3\" class=\"data row9 col3\" >0</td>\n",
       "      <td id=\"T_83ccd_row9_col4\" class=\"data row9 col4\" >0</td>\n",
       "    </tr>\n",
       "  </tbody>\n",
       "</table>\n"
      ],
      "text/plain": [
       "<pandas.io.formats.style.Styler at 0x24cb94080a0>"
      ]
     },
     "metadata": {},
     "output_type": "display_data"
    },
    {
     "name": "stdout",
     "output_type": "stream",
     "text": [
      "Preference Matrix\n"
     ]
    },
    {
     "name": "stderr",
     "output_type": "stream",
     "text": [
      "C:\\Users\\seren\\AppData\\Local\\Temp\\ipykernel_32124\\921478126.py:25: FutureWarning: Styler.applymap has been deprecated. Use Styler.map instead.\n",
      "  df2_styled = df2.style.applymap(highlight_cells)\n"
     ]
    },
    {
     "data": {
      "text/html": [
       "<style type=\"text/css\">\n",
       "#T_796b1_row0_col0, #T_796b1_row0_col1, #T_796b1_row0_col2, #T_796b1_row0_col4, #T_796b1_row1_col0, #T_796b1_row1_col1, #T_796b1_row1_col2, #T_796b1_row1_col3, #T_796b1_row1_col4, #T_796b1_row2_col0, #T_796b1_row2_col1, #T_796b1_row2_col2, #T_796b1_row2_col4, #T_796b1_row3_col0, #T_796b1_row3_col1, #T_796b1_row3_col3, #T_796b1_row3_col4, #T_796b1_row4_col0, #T_796b1_row4_col1, #T_796b1_row4_col2, #T_796b1_row4_col3, #T_796b1_row4_col4, #T_796b1_row5_col0, #T_796b1_row5_col2, #T_796b1_row5_col3, #T_796b1_row5_col4, #T_796b1_row6_col0, #T_796b1_row6_col1, #T_796b1_row6_col2, #T_796b1_row6_col4, #T_796b1_row7_col0, #T_796b1_row7_col1, #T_796b1_row7_col2, #T_796b1_row7_col3, #T_796b1_row7_col4, #T_796b1_row8_col0, #T_796b1_row8_col1, #T_796b1_row8_col2, #T_796b1_row8_col3, #T_796b1_row8_col4, #T_796b1_row9_col0, #T_796b1_row9_col1, #T_796b1_row9_col2, #T_796b1_row9_col3, #T_796b1_row9_col4 {\n",
       "  color: #00ff15;\n",
       "}\n",
       "#T_796b1_row0_col3, #T_796b1_row2_col3, #T_796b1_row3_col2, #T_796b1_row5_col1, #T_796b1_row6_col3 {\n",
       "  color: ;\n",
       "}\n",
       "</style>\n",
       "<table id=\"T_796b1\">\n",
       "  <thead>\n",
       "    <tr>\n",
       "      <th class=\"blank level0\" >&nbsp;</th>\n",
       "      <th id=\"T_796b1_level0_col0\" class=\"col_heading level0 col0\" >Day 1</th>\n",
       "      <th id=\"T_796b1_level0_col1\" class=\"col_heading level0 col1\" >Day 2</th>\n",
       "      <th id=\"T_796b1_level0_col2\" class=\"col_heading level0 col2\" >Day 3</th>\n",
       "      <th id=\"T_796b1_level0_col3\" class=\"col_heading level0 col3\" >Day 4</th>\n",
       "      <th id=\"T_796b1_level0_col4\" class=\"col_heading level0 col4\" >Day 5</th>\n",
       "    </tr>\n",
       "  </thead>\n",
       "  <tbody>\n",
       "    <tr>\n",
       "      <th id=\"T_796b1_level0_row0\" class=\"row_heading level0 row0\" >Employee 1</th>\n",
       "      <td id=\"T_796b1_row0_col0\" class=\"data row0 col0\" >1</td>\n",
       "      <td id=\"T_796b1_row0_col1\" class=\"data row0 col1\" >1</td>\n",
       "      <td id=\"T_796b1_row0_col2\" class=\"data row0 col2\" >1</td>\n",
       "      <td id=\"T_796b1_row0_col3\" class=\"data row0 col3\" >0</td>\n",
       "      <td id=\"T_796b1_row0_col4\" class=\"data row0 col4\" >1</td>\n",
       "    </tr>\n",
       "    <tr>\n",
       "      <th id=\"T_796b1_level0_row1\" class=\"row_heading level0 row1\" >Employee 2</th>\n",
       "      <td id=\"T_796b1_row1_col0\" class=\"data row1 col0\" >1</td>\n",
       "      <td id=\"T_796b1_row1_col1\" class=\"data row1 col1\" >1</td>\n",
       "      <td id=\"T_796b1_row1_col2\" class=\"data row1 col2\" >1</td>\n",
       "      <td id=\"T_796b1_row1_col3\" class=\"data row1 col3\" >1</td>\n",
       "      <td id=\"T_796b1_row1_col4\" class=\"data row1 col4\" >1</td>\n",
       "    </tr>\n",
       "    <tr>\n",
       "      <th id=\"T_796b1_level0_row2\" class=\"row_heading level0 row2\" >Employee 3</th>\n",
       "      <td id=\"T_796b1_row2_col0\" class=\"data row2 col0\" >1</td>\n",
       "      <td id=\"T_796b1_row2_col1\" class=\"data row2 col1\" >1</td>\n",
       "      <td id=\"T_796b1_row2_col2\" class=\"data row2 col2\" >1</td>\n",
       "      <td id=\"T_796b1_row2_col3\" class=\"data row2 col3\" >0</td>\n",
       "      <td id=\"T_796b1_row2_col4\" class=\"data row2 col4\" >1</td>\n",
       "    </tr>\n",
       "    <tr>\n",
       "      <th id=\"T_796b1_level0_row3\" class=\"row_heading level0 row3\" >Employee 4</th>\n",
       "      <td id=\"T_796b1_row3_col0\" class=\"data row3 col0\" >1</td>\n",
       "      <td id=\"T_796b1_row3_col1\" class=\"data row3 col1\" >1</td>\n",
       "      <td id=\"T_796b1_row3_col2\" class=\"data row3 col2\" >0</td>\n",
       "      <td id=\"T_796b1_row3_col3\" class=\"data row3 col3\" >1</td>\n",
       "      <td id=\"T_796b1_row3_col4\" class=\"data row3 col4\" >1</td>\n",
       "    </tr>\n",
       "    <tr>\n",
       "      <th id=\"T_796b1_level0_row4\" class=\"row_heading level0 row4\" >Employee 5</th>\n",
       "      <td id=\"T_796b1_row4_col0\" class=\"data row4 col0\" >1</td>\n",
       "      <td id=\"T_796b1_row4_col1\" class=\"data row4 col1\" >1</td>\n",
       "      <td id=\"T_796b1_row4_col2\" class=\"data row4 col2\" >1</td>\n",
       "      <td id=\"T_796b1_row4_col3\" class=\"data row4 col3\" >1</td>\n",
       "      <td id=\"T_796b1_row4_col4\" class=\"data row4 col4\" >1</td>\n",
       "    </tr>\n",
       "    <tr>\n",
       "      <th id=\"T_796b1_level0_row5\" class=\"row_heading level0 row5\" >Employee 6</th>\n",
       "      <td id=\"T_796b1_row5_col0\" class=\"data row5 col0\" >1</td>\n",
       "      <td id=\"T_796b1_row5_col1\" class=\"data row5 col1\" >0</td>\n",
       "      <td id=\"T_796b1_row5_col2\" class=\"data row5 col2\" >1</td>\n",
       "      <td id=\"T_796b1_row5_col3\" class=\"data row5 col3\" >1</td>\n",
       "      <td id=\"T_796b1_row5_col4\" class=\"data row5 col4\" >1</td>\n",
       "    </tr>\n",
       "    <tr>\n",
       "      <th id=\"T_796b1_level0_row6\" class=\"row_heading level0 row6\" >Employee 7</th>\n",
       "      <td id=\"T_796b1_row6_col0\" class=\"data row6 col0\" >1</td>\n",
       "      <td id=\"T_796b1_row6_col1\" class=\"data row6 col1\" >1</td>\n",
       "      <td id=\"T_796b1_row6_col2\" class=\"data row6 col2\" >1</td>\n",
       "      <td id=\"T_796b1_row6_col3\" class=\"data row6 col3\" >0</td>\n",
       "      <td id=\"T_796b1_row6_col4\" class=\"data row6 col4\" >1</td>\n",
       "    </tr>\n",
       "    <tr>\n",
       "      <th id=\"T_796b1_level0_row7\" class=\"row_heading level0 row7\" >Employee 8</th>\n",
       "      <td id=\"T_796b1_row7_col0\" class=\"data row7 col0\" >1</td>\n",
       "      <td id=\"T_796b1_row7_col1\" class=\"data row7 col1\" >1</td>\n",
       "      <td id=\"T_796b1_row7_col2\" class=\"data row7 col2\" >1</td>\n",
       "      <td id=\"T_796b1_row7_col3\" class=\"data row7 col3\" >1</td>\n",
       "      <td id=\"T_796b1_row7_col4\" class=\"data row7 col4\" >1</td>\n",
       "    </tr>\n",
       "    <tr>\n",
       "      <th id=\"T_796b1_level0_row8\" class=\"row_heading level0 row8\" >Employee 9</th>\n",
       "      <td id=\"T_796b1_row8_col0\" class=\"data row8 col0\" >1</td>\n",
       "      <td id=\"T_796b1_row8_col1\" class=\"data row8 col1\" >1</td>\n",
       "      <td id=\"T_796b1_row8_col2\" class=\"data row8 col2\" >1</td>\n",
       "      <td id=\"T_796b1_row8_col3\" class=\"data row8 col3\" >1</td>\n",
       "      <td id=\"T_796b1_row8_col4\" class=\"data row8 col4\" >1</td>\n",
       "    </tr>\n",
       "    <tr>\n",
       "      <th id=\"T_796b1_level0_row9\" class=\"row_heading level0 row9\" >Employee 10</th>\n",
       "      <td id=\"T_796b1_row9_col0\" class=\"data row9 col0\" >1</td>\n",
       "      <td id=\"T_796b1_row9_col1\" class=\"data row9 col1\" >1</td>\n",
       "      <td id=\"T_796b1_row9_col2\" class=\"data row9 col2\" >1</td>\n",
       "      <td id=\"T_796b1_row9_col3\" class=\"data row9 col3\" >1</td>\n",
       "      <td id=\"T_796b1_row9_col4\" class=\"data row9 col4\" >1</td>\n",
       "    </tr>\n",
       "  </tbody>\n",
       "</table>\n"
      ],
      "text/plain": [
       "<pandas.io.formats.style.Styler at 0x24cb940b070>"
      ]
     },
     "metadata": {},
     "output_type": "display_data"
    }
   ],
   "source": [
    "\n",
    "def highlight_cells(val):\n",
    "    color = '#00ff15' if val == 1 else ''\n",
    "    return 'color: %s' % color\n",
    "\n",
    "# function taken from stack overflow\n",
    "def highlight_diff(data, other, color='#ff616b'):\n",
    "    attr = f'background-color: {color}'\n",
    "    return pd.DataFrame(np.where(data.ne(other), attr, ''),\n",
    "                        index=data.index, columns=data.columns)\n",
    "\n",
    "if status == cp_model.OPTIMAL or status == cp_model.FEASIBLE:\n",
    "\n",
    "    solutionArray = [[solver.Value(l[s,d]) for d in range(num_days)] for s in range(num_staff)]\n",
    "\n",
    "    df = pd.DataFrame(solutionArray, columns=[f'Day {d+1}' for d in range(num_days)], index=[f'Employee {x+1}' for x in range(num_staff)])\n",
    "\n",
    "    df2 = pd.DataFrame(p, columns=[f'Day {d+1}' for d in range(num_days)], index=[f'Employee {x+1}' for x in range(num_staff)])\n",
    "\n",
    "\n",
    "    print(\"Solution\\nRed cells are cells where preference matrix and solution matrix differ.\")\n",
    "    df_styled = df.style.apply(highlight_diff, axis=None, other=df2).applymap(highlight_cells)\n",
    "    display(df_styled)\n",
    "\n",
    "    print(\"Preference Matrix\")\n",
    "    df2_styled = df2.style.applymap(highlight_cells)\n",
    "    display(df2_styled)\n",
    "\n",
    "else:\n",
    "    print(\"No feasible solution found.\")"
   ]
  },
  {
   "cell_type": "code",
   "execution_count": 18,
   "metadata": {},
   "outputs": [],
   "source": [
    "\n",
    "class SolutionPrinter(cp_model.CpSolverSolutionCallback):\n",
    "\n",
    "    def __init__(self, num_staff, num_days, l, limit):\n",
    "        cp_model.CpSolverSolutionCallback.__init__(self)\n",
    "        self._num_staff = num_staff\n",
    "        self._num_days = num_days\n",
    "        self._leave = l\n",
    "        self._solution_count = 0\n",
    "        self._solution_limit = limit\n",
    "\n",
    "\n",
    "    def on_solution_callback(self):\n",
    "\n",
    "        self._solution_count += 1\n",
    "\n",
    "        print(f\"Solution {self._solution_count}\")\n",
    "\n",
    "        for d in range(self._num_days):\n",
    "            print(f\"Day {d+1}\")\n",
    "            for s in range(self._num_staff):\n",
    "                is_working = False\n",
    "                if self.value(self._leave[(s, d)]):\n",
    "                    is_working = True\n",
    "                    print(f\"  Employee {s+1} granted leave\")\n",
    "                if not is_working:\n",
    "                    print(f\"  Employee {s+1} does not work\")\n",
    "\n",
    "        if self._solution_count >= self._solution_limit:\n",
    "            print(f\"Stop search after {self._solution_limit} solutions\")\n",
    "            self.stop_search()\n",
    "\n",
    "\n",
    "\n",
    "    def solutionCount(self):\n",
    "        return self._solution_count\n",
    "\n"
   ]
  },
  {
   "cell_type": "code",
   "execution_count": 19,
   "metadata": {},
   "outputs": [
    {
     "name": "stdout",
     "output_type": "stream",
     "text": [
      "Solution 1\n",
      "Day 1\n",
      "  Employee 1 does not work\n",
      "  Employee 2 does not work\n",
      "  Employee 3 granted leave\n",
      "  Employee 4 does not work\n",
      "  Employee 5 does not work\n",
      "  Employee 6 does not work\n",
      "  Employee 7 does not work\n",
      "  Employee 8 does not work\n",
      "  Employee 9 does not work\n",
      "  Employee 10 granted leave\n",
      "Day 2\n",
      "  Employee 1 does not work\n",
      "  Employee 2 does not work\n",
      "  Employee 3 granted leave\n",
      "  Employee 4 does not work\n",
      "  Employee 5 does not work\n",
      "  Employee 6 does not work\n",
      "  Employee 7 does not work\n",
      "  Employee 8 does not work\n",
      "  Employee 9 does not work\n",
      "  Employee 10 does not work\n",
      "Day 3\n",
      "  Employee 1 granted leave\n",
      "  Employee 2 does not work\n",
      "  Employee 3 does not work\n",
      "  Employee 4 does not work\n",
      "  Employee 5 does not work\n",
      "  Employee 6 does not work\n",
      "  Employee 7 granted leave\n",
      "  Employee 8 does not work\n",
      "  Employee 9 does not work\n",
      "  Employee 10 does not work\n",
      "Day 4\n",
      "  Employee 1 granted leave\n",
      "  Employee 2 does not work\n",
      "  Employee 3 does not work\n",
      "  Employee 4 does not work\n",
      "  Employee 5 does not work\n",
      "  Employee 6 granted leave\n",
      "  Employee 7 does not work\n",
      "  Employee 8 does not work\n",
      "  Employee 9 granted leave\n",
      "  Employee 10 granted leave\n",
      "Day 5\n",
      "  Employee 1 does not work\n",
      "  Employee 2 does not work\n",
      "  Employee 3 does not work\n",
      "  Employee 4 granted leave\n",
      "  Employee 5 does not work\n",
      "  Employee 6 granted leave\n",
      "  Employee 7 does not work\n",
      "  Employee 8 does not work\n",
      "  Employee 9 does not work\n",
      "  Employee 10 granted leave\n",
      "\n",
      "Statistics\n",
      "  - conflicts: 0\n",
      "  - branches : 100\n",
      "  - wall time: 0.0041098s\n"
     ]
    }
   ],
   "source": [
    "solution_limit = 5\n",
    "solution_printer = SolutionPrinter(num_staff, num_days, l, solution_limit)\n",
    "\n",
    "solver = cp_model.CpSolver()\n",
    "# solver.parameters.linearization_level = 0\n",
    "solver.parameters.enumerate_all_solutions = True\n",
    "\n",
    "solver.Solve(model, solution_printer)\n",
    "\n",
    "# Statistics.\n",
    "print(\"\\nStatistics\")\n",
    "print(f\"  - conflicts: {solver.num_conflicts}\")\n",
    "print(f\"  - branches : {solver.num_branches}\")\n",
    "print(f\"  - wall time: {solver.wall_time}s\")"
   ]
  }
 ],
 "metadata": {
  "kernelspec": {
   "display_name": "venv",
   "language": "python",
   "name": "python3"
  },
  "language_info": {
   "codemirror_mode": {
    "name": "ipython",
    "version": 3
   },
   "file_extension": ".py",
   "mimetype": "text/x-python",
   "name": "python",
   "nbconvert_exporter": "python",
   "pygments_lexer": "ipython3",
   "version": "3.10.11"
  }
 },
 "nbformat": 4,
 "nbformat_minor": 2
}
