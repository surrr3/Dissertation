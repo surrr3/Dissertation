{
 "cells": [
  {
   "cell_type": "code",
   "execution_count": 1,
   "metadata": {},
   "outputs": [
    {
     "data": {
      "application/javascript": "\"use strict\";\n\nCodeMirror.defineMode(\"text/minizinc\", function(config) {\n\n  var isOperatorChar = /[+\\-*=<>\\/]/;\n\n  var keywords = {\"array\":true,\n  \"bool\":true,\n  \"case\":true,\n  \"constraint\":true,\n  \"diff\":true,\n  \"div\":true,\n  \"else\":true,\n  \"elseif\":true,\n  \"endif\":true,\n  \"enum\":true,\n  \"false\":true,\n  \"float\":true,\n  \"function\":true,\n  \"if\":true,\n  \"in\":true,\n  \"include\":true,\n  \"int\":true,\n  \"intersect\":true,\n  \"let\":true,\n  \"list\":true,\n  \"maximize\":true,\n  \"minimize\":true,\n  \"mod\":true,\n  \"not\":true,\n  \"of\":true,\n  \"op\":true,\n  \"output\":true,\n  \"par\":true,\n  \"predicate\":true,\n  \"record\":true,\n  \"satisfy\":true,\n  \"set\":true,\n  \"solve\":true,\n  \"string\":true,\n  \"subset\":true,\n  \"superset\":true,\n  \"symdiff\":true,\n  \"test\":true,\n  \"then\":true,\n  \"true\":true,\n  \"tuple\":true,\n  \"type\":true,\n  \"union\":true,\n  \"var\":true,\n  \"where\":true,\n  \"xor\":true};\n\n  var punc = \":;,.(){}[]\";\n\n  function tokenBase(stream, state) {\n    var ch = stream.next();\n    if (ch == '\"') {\n      state.tokenize.push(tokenString);\n      return tokenString(stream, state);\n    }\n    if (/[\\d\\.]/.test(ch)) {\n      if (ch == \".\") {\n        stream.match(/^[0-9]+([eE][\\-+]?[0-9]+)?/);\n      } else if (ch == \"0\") {\n        stream.match(/^[xX][0-9a-fA-F]+/) || stream.match(/^0[0-7]+/);\n      } else {\n        stream.match(/^[0-9]*\\.?[0-9]*([eE][\\-+]?[0-9]+)?/);\n      }\n      return \"number\";\n    }\n    if (ch == \"/\") {\n      if (stream.eat(\"*\")) {\n        state.tokenize.push(tokenComment);\n        return tokenComment(stream, state);\n      }\n    }\n    if (ch == \"%\") {\n      stream.skipToEnd();\n      return \"comment\";\n    }\n    if (isOperatorChar.test(ch)) {\n      stream.eatWhile(isOperatorChar);\n      return \"operator\";\n    }\n    if (punc.indexOf(ch) > -1) {\n      return \"punctuation\";\n    }\n    stream.eatWhile(/[\\w\\$_\\xa1-\\uffff]/);\n    var cur = stream.current();\n    if (keywords.propertyIsEnumerable(cur)) {\n      return \"keyword\";\n    }\n    return \"variable\";\n  }\n\n  function tokenComment(stream, state) {\n    var maybeEnd = false, ch;\n    while (ch = stream.next()) {\n      if (ch == \"/\" && maybeEnd) {\n        state.tokenize.pop();\n        break;\n      }\n      maybeEnd = (ch == \"*\");\n    }\n    return \"comment\";\n  }\n\n  function tokenUntilClosingParen() {\n    var depth = 0;\n    return function(stream, state, prev) {\n      var inner = tokenBase(stream, state, prev);\n      console.log(\"untilClosing\",inner,stream.current());\n      if (inner == \"punctuation\") {\n        if (stream.current() == \"(\") {\n          ++depth;\n        } else if (stream.current() == \")\") {\n          if (depth == 0) {\n            stream.backUp(1)\n            state.tokenize.pop()\n            return state.tokenize[state.tokenize.length - 1](stream, state)\n          } else {\n            --depth;\n          }\n        }\n      }\n      return inner;\n    }\n  }\n\n  function tokenString(stream, state) {\n    var escaped = false, next, end = false;\n    while ((next = stream.next()) != null) {\n      if (next=='(' && escaped) {\n        state.tokenize.push(tokenUntilClosingParen());\n        return \"string\";\n      }\n      if (next == '\"' && !escaped) {end = true; break;}\n      escaped = !escaped && next == \"\\\\\";\n    }\n    if (end || !escaped)\n      state.tokenize.pop();\n    return \"string\";\n  }\n\n  return {\n    startState: function(basecolumn) {\n      return {\n        tokenize: []\n      };\n    },\n\n    token: function(stream, state) {\n      if (stream.eatSpace()) return null;\n      var style = (state.tokenize[state.tokenize.length - 1] || tokenBase)(stream, state);\n      console.log(\"token\",style);\n      return style;\n    },\n\n    blockCommentStart: \"/*\",\n    blockCommentEnd: \"*/\",\n    lineComment: \"%\"\n  };\n});\n\nCodeMirror.defineMIME(\"text/minizinc\", \"text/minizinc\");\n\nJupyter.CodeCell.options_default.highlight_modes['magic_text/minizinc'] = {'reg':[/^%%minizinc/]} ;\n\nJupyter.notebook.get_cells().map(function(cell){\n  if (cell.cell_type == 'code'){ cell.auto_highlight(); }\n}) ;\n",
      "text/plain": [
       "<IPython.core.display.Javascript object>"
      ]
     },
     "metadata": {},
     "output_type": "display_data"
    },
    {
     "name": "stdout",
     "output_type": "stream",
     "text": [
      "MiniZinc to FlatZinc converter, version 2.9.0, build 1664956232\n",
      "Copyright (C) 2014-2025 Monash University, NICTA, Data61\n"
     ]
    }
   ],
   "source": [
    "%load_ext iminizinc"
   ]
  },
  {
   "cell_type": "code",
   "execution_count": 2,
   "metadata": {},
   "outputs": [],
   "source": [
    "import numpy as np\n",
    "from math import ceil\n",
    "import random"
   ]
  },
  {
   "cell_type": "code",
   "execution_count": 3,
   "metadata": {},
   "outputs": [
    {
     "name": "stdout",
     "output_type": "stream",
     "text": [
      "Capacity Matrix: \n",
      " [1, 1, 1, 1, 1]\n",
      "Preference Matrix: \n",
      " [[0 1 0 0 0]\n",
      " [0 0 0 0 1]\n",
      " [0 0 0 1 1]\n",
      " [0 0 1 0 1]\n",
      " [1 0 0 1 0]\n",
      " [0 0 1 1 1]\n",
      " [1 0 1 0 0]\n",
      " [0 1 0 1 1]\n",
      " [1 0 0 0 1]\n",
      " [0 0 1 1 0]]\n"
     ]
    }
   ],
   "source": [
    "num_staff = 10 # number of staff members\n",
    "num_days = 5 # number of days\n",
    "\n",
    "# leave_capacity = [ceil((random.randrange(0, 50, 5) / 100) * num_staff) for i in range(num_days)] # random capacity for each day\n",
    "leave_capacity = [1,1,1,1,1] # random capacity for each day\n",
    "\n",
    "print(f\"Capacity Matrix: \\n {leave_capacity}\")\n",
    "\n",
    "num_ones = int(num_staff * num_days * 0.4)\n",
    "num_zeros = (num_staff * num_days) - num_ones\n",
    "array = np.array([1] * num_ones + [0] * num_zeros)\n",
    "np.random.shuffle(array)\n",
    "preference_matrix = array.reshape(num_staff,num_days)\n",
    "\n",
    "print(f\"Preference Matrix: \\n {preference_matrix}\")\n",
    "\n",
    "\n",
    "preference_matrix = preference_matrix.tolist()\n",
    "\n"
   ]
  },
  {
   "cell_type": "code",
   "execution_count": 4,
   "metadata": {},
   "outputs": [
    {
     "data": {
      "text/plain": [
       "{'leave': [[0, 1, 0, 0, 0],\n",
       "  [0, 0, 0, 0, 1],\n",
       "  [0, 0, 0, 1, 0],\n",
       "  [0, 0, 1, 0, 0],\n",
       "  [1, 0, 0, 0, 0],\n",
       "  [0, 0, 0, 0, 0],\n",
       "  [0, 0, 0, 0, 0],\n",
       "  [0, 0, 0, 0, 0],\n",
       "  [0, 0, 0, 0, 0],\n",
       "  [0, 0, 0, 0, 0]]}"
      ]
     },
     "execution_count": 4,
     "metadata": {},
     "output_type": "execute_result"
    }
   ],
   "source": [
    "%%minizinc\n",
    "\n",
    "include \"globals.mzn\";\n",
    "\n",
    "% Existing Variables\n",
    "int: num_staff;\n",
    "int: num_days;\n",
    "array[1..num_days] of int: leave_capacity;\n",
    "array[1..num_staff, 1..num_days] of int: preference_matrix;\n",
    "\n",
    "% Matrix to fill in\n",
    "array[1..num_staff, 1..num_days] of var 0..1: leave;\n",
    "\n",
    "constraint\n",
    "  forall(d in 1..num_days)(\n",
    "    sum(p in 1..num_staff)(leave[p,d]) <= leave_capacity[d]\n",
    "  );\n",
    "\n",
    "var int: satisfaction = sum(x in 1..num_staff, y in 1..num_days)(preference_matrix[x, y] * leave[x, y]);\n",
    "\n",
    "solve maximize satisfaction;"
   ]
  },
  {
   "cell_type": "code",
   "execution_count": null,
   "metadata": {},
   "outputs": [],
   "source": [
    "\n",
    "\n",
    "\n"
   ]
  }
 ],
 "metadata": {
  "kernelspec": {
   "display_name": "venv",
   "language": "python",
   "name": "python3"
  },
  "language_info": {
   "codemirror_mode": {
    "name": "ipython",
    "version": 3
   },
   "file_extension": ".py",
   "mimetype": "text/x-python",
   "name": "python",
   "nbconvert_exporter": "python",
   "pygments_lexer": "ipython3",
   "version": "3.10.11"
  }
 },
 "nbformat": 4,
 "nbformat_minor": 2
}
